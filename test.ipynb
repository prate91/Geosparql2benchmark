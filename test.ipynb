{
 "cells": [
  {
   "cell_type": "code",
   "execution_count": 1,
   "metadata": {},
   "outputs": [
    {
     "name": "stdout",
     "output_type": "stream",
     "text": [
      "Requirement already satisfied: SPARQLWrapper in c:\\users\\prate\\appdata\\local\\packages\\pythonsoftwarefoundation.python.3.9_qbz5n2kfra8p0\\localcache\\local-packages\\python39\\site-packages (2.0.0)\n",
      "Requirement already satisfied: rdflib>=6.1.1 in c:\\users\\prate\\appdata\\local\\packages\\pythonsoftwarefoundation.python.3.9_qbz5n2kfra8p0\\localcache\\local-packages\\python39\\site-packages (from SPARQLWrapper) (6.3.1)\n",
      "Requirement already satisfied: isodate<0.7.0,>=0.6.0 in c:\\users\\prate\\appdata\\local\\packages\\pythonsoftwarefoundation.python.3.9_qbz5n2kfra8p0\\localcache\\local-packages\\python39\\site-packages (from rdflib>=6.1.1->SPARQLWrapper) (0.6.1)\n",
      "Requirement already satisfied: pyparsing<4,>=2.1.0 in c:\\users\\prate\\appdata\\local\\packages\\pythonsoftwarefoundation.python.3.9_qbz5n2kfra8p0\\localcache\\local-packages\\python39\\site-packages (from rdflib>=6.1.1->SPARQLWrapper) (3.0.9)\n",
      "Requirement already satisfied: six in c:\\users\\prate\\appdata\\local\\packages\\pythonsoftwarefoundation.python.3.9_qbz5n2kfra8p0\\localcache\\local-packages\\python39\\site-packages (from isodate<0.7.0,>=0.6.0->rdflib>=6.1.1->SPARQLWrapper) (1.16.0)\n"
     ]
    },
    {
     "name": "stderr",
     "output_type": "stream",
     "text": [
      "WARNING: You are using pip version 22.0.4; however, version 23.1.2 is available.\n",
      "You should consider upgrading via the 'C:\\Users\\prate\\AppData\\Local\\Microsoft\\WindowsApps\\PythonSoftwareFoundation.Python.3.9_qbz5n2kfra8p0\\python.exe -m pip install --upgrade pip' command.\n"
     ]
    }
   ],
   "source": [
    "!pip install SPARQLWrapper"
   ]
  },
  {
   "cell_type": "code",
   "execution_count": 18,
   "metadata": {},
   "outputs": [
    {
     "name": "stdout",
     "output_type": "stream",
     "text": [
      "<?xml version=\"1.0\" ?><sparql xmlns=\"http://www.w3.org/2005/sparql-results#\">\n",
      "  <head>\n",
      "    <variable name=\"f\"/>\n",
      "  </head>\n",
      "  <results>\n",
      "    <result>\n",
      "      <binding name=\"f\">\n",
      "        <uri>http://example.org/ApplicationSchema#AExactGeom</uri>\n",
      "      </binding>\n",
      "    </result>\n",
      "    <result>\n",
      "      <binding name=\"f\">\n",
      "        <uri>http://example.org/ApplicationSchema#BExactGeom</uri>\n",
      "      </binding>\n",
      "    </result>\n",
      "    <result>\n",
      "      <binding name=\"f\">\n",
      "        <uri>http://example.org/ApplicationSchema#CExactGeom</uri>\n",
      "      </binding>\n",
      "    </result>\n",
      "    <result>\n",
      "      <binding name=\"f\">\n",
      "        <uri>http://example.org/ApplicationSchema#DExactGeom</uri>\n",
      "      </binding>\n",
      "    </result>\n",
      "    <result>\n",
      "      <binding name=\"f\">\n",
      "        <uri>http://example.org/ApplicationSchema#GExactGeom</uri>\n",
      "      </binding>\n",
      "    </result>\n",
      "    <result>\n",
      "      <binding name=\"f\">\n",
      "        <uri>http://example.org/ApplicationSchema#JExactGeom</uri>\n",
      "      </binding>\n",
      "    </result>\n",
      "    <result>\n",
      "      <binding name=\"f\">\n",
      "        <uri>http://example.org/ApplicationSchema#KExactGeom</uri>\n",
      "      </binding>\n",
      "    </result>\n",
      "  </results>\n",
      "</sparql>\n"
     ]
    }
   ],
   "source": [
    "from SPARQLWrapper import SPARQLWrapper, JSON, XML\n",
    "\n",
    "# Set up the SPARQL endpoint URL\n",
    "sparql = SPARQLWrapper(\"https://testable.isti.cnr.it/fuseki/seminar/query\")\n",
    "\n",
    "# Set the SPARQL query string\n",
    "query = \"\"\"\n",
    "\n",
    "PREFIX gml: <http://www.opengis.net/ont/gml#>\n",
    "PREFIX rdf: <http://www.w3.org/1999/02/22-rdf-syntax-ns#>\n",
    "SELECT DISTINCT ?f\n",
    "WHERE {\n",
    "  ?f rdf:type gml:Surface\n",
    "}\n",
    "ORDER BY ?f\n",
    "\n",
    "\"\"\"\n",
    "\n",
    "# Set the query type to SELECT and the response format to JSON\n",
    "sparql.setQuery(query)\n",
    "sparql.setReturnFormat(XML)\n",
    "\n",
    "# Execute the SPARQL query and retrieve the results\n",
    "results = sparql.query().convert()\n",
    "print(results.toxml())\n",
    "# Print the results\n",
    "# for result in results[\"results\"][\"bindings\"]:\n",
    "#     print(result[\"equals\"][\"value\"])\n"
   ]
  }
 ],
 "metadata": {
  "kernelspec": {
   "display_name": "Python 3",
   "language": "python",
   "name": "python3"
  },
  "language_info": {
   "codemirror_mode": {
    "name": "ipython",
    "version": 3
   },
   "file_extension": ".py",
   "mimetype": "text/x-python",
   "name": "python",
   "nbconvert_exporter": "python",
   "pygments_lexer": "ipython3",
   "version": "3.9.13"
  },
  "orig_nbformat": 4
 },
 "nbformat": 4,
 "nbformat_minor": 2
}
